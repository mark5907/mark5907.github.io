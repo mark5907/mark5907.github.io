{
 "metadata": {
  "name": "",
  "signature": "sha256:e326974dc8351cd20df7378a53444967c0221dd4ac29139caaea3f3053ca3422"
 },
 "nbformat": 3,
 "nbformat_minor": 0,
 "worksheets": [
  {
   "cells": [
    {
     "cell_type": "markdown",
     "metadata": {},
     "source": [
      "# Chapter 5. Basis Expansions and Regularization\n",
      "This notebook reproduces some of the works in <a target='_blank', href='http://statweb.stanford.edu/~tibs/ElemStatLearn/'>ESL</a>\n",
      "\n"
     ]
    }
   ],
   "metadata": {}
  }
 ]
}