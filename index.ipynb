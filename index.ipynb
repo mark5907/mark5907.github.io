{
 "metadata": {
  "name": "",
  "signature": "sha256:c105232edaa1013d6b39ffa5198c491f51a851a120900bbbb8b8c065207799eb"
 },
 "nbformat": 3,
 "nbformat_minor": 0,
 "worksheets": [
  {
   "cells": [
    {
     "cell_type": "markdown",
     "metadata": {},
     "source": [
      "# Read Me\n",
      "Hello, I am Lei Yao, my Chinese name is \u59da\u78ca. I am a mathematician/quant researcher/investment student/poker player/coding lover. I was born in \n",
      "<a target='_blank',href='http://en.wikipedia.org/wiki/Xianyang'>Xianyang</a>, Shaanxi, China. It was the capital of 13 empires in China, including the very first one: <a target='_blank', href='http://en.wikipedia.org/wiki/Qin_dynasty'>Qin dynasty (221 BC)</a>. \n",
      "\n",
      "I went to college in Hong Kong, Master and Ph.D. in USA. I speak 3 dialects in Chinese (Shaanxi, Cantonese, Mandarin) and 2 in English (Upper New York, West Philadelphia, if you can tell the difference)"
     ]
    },
    {
     "cell_type": "code",
     "collapsed": false,
     "input": [
      "phd"
     ],
     "language": "python",
     "metadata": {},
     "outputs": [
      {
       "jpeg": "[encoded data removed]",
       "metadata": {
        "jpeg": {
         "height": 120,
         "width": 120
        }
       },
       "output_type": "pyout",
       "prompt_number": 39,
       "text": [
        "<IPython.core.display.Image at 0x106eb0c10>"
       ]
      }
     ],
     "prompt_number": 39
    },
    {
     "cell_type": "markdown",
     "metadata": {},
     "source": [
      "I have a Ph.D. in applied mathematics. I studied stochastic processes. My very remote mathematical ancestor is <a target='_blank', href='http://en.wikipedia.org/wiki/Leonhard_Euler'>Leonhard Euler</a>.\n",
      "\n",
      "I currently work as a quant researcher in a prop trading firm. My work involves handling large amount of data and discovering patterns in it. Majority of my job needs to be done in Linux, which I started learning it about 1 year ago. It is such a nice tool and I am pretty confident that if I knew it earlier, I could finish my degree faster. \n",
      "\n",
      "I am keeping this site to share some of my ideas."
     ]
    },
    {
     "cell_type": "markdown",
     "metadata": {},
     "source": [
      "### Study Notes\n",
      "* <a target='_blank', href='spline.html'>Spline</a>\n",
      "\n",
      "### Random Stuffs\n",
      "* <a target='_blank', href='http://nbviewer.ipython.org/github/Prooffreader/Misc_ipynb/blob/master/top_10_python_idioms.ipynb'>top 10 python idioms</a>"
     ]
    },
    {
     "cell_type": "code",
     "collapsed": false,
     "input": [],
     "language": "python",
     "metadata": {},
     "outputs": []
    }
   ],
   "metadata": {}
  }
 ]
}