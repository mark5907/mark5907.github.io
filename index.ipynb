{
 "cells": [
  {
   "cell_type": "markdown",
   "metadata": {},
   "source": [
    "# About me\n",
    "\n",
    "Hello, I am Lei Yao, my Chinese name is 姚磊. I am a mathematician/quant researcher/investment student/poker player/coding lover. I was born in \n",
    "<a target='_blank', href='http://en.wikipedia.org/wiki/Xianyang'>Xianyang</a>, Shaanxi, China. It was the capital of 13 empires in China, including the very first one: <a target='_blank', href='http://en.wikipedia.org/wiki/Qin_dynasty'>Qin dynasty (221 BC)</a>. \n",
    "\n",
    "I went to college in Hong Kong. I earned my Master degree and Ph.D. in USA. I speak 3 dialects in Chinese (Shaanxi, Cantonese, Mandarin)."
   ]
  },
  {
   "cell_type": "markdown",
   "metadata": {},
   "source": [
    "I have a Ph.D. in applied mathematics. I studied stochastic processes. My very remote mathematical ancestor is <a target='_blank', href='http://en.wikipedia.org/wiki/Leonhard_Euler'>Leonhard Euler</a>.\n",
    "\n",
    "I currently work as a quant researcher in a prop trading firm. My work involves handling large amount of data and discovering patterns in it. Majority of my job is done in python under Unix enviroments. \n"
   ]
  },
  {
   "cell_type": "markdown",
   "metadata": {},
   "source": [
    "### My booklist\n",
    "\n",
    "Before grad school, I never finished a single book except comic books. I started to read after knowing some math and the books are mainly on the subject. <a href=\"books.ipynb\">Here</a> are my recommendations for books on math, finance, gambling (well, they are the same in some sense)."
   ]
  },
  {
   "cell_type": "markdown",
   "metadata": {},
   "source": [
    "### Study Notes\n",
    "* <a href='study/splines.ipynb'>Spline</a>\n",
    "* <a href='study/haar.ipynb'>Noise removal with Haar wavelet</a> \n",
    "\n",
    "\n",
    "### Random Stuffs\n",
    "* <a target=\"_blank\", href=\"http://www.praetorian.com/blog/multi-core-and-distributed-programming-in-python\">Multi-Core Python</a>\n",
    "\n",
    "* <a target='_blank', href=\"http://www.bearcave.com/misl/misl_tech/wavelets/haar.html\">Haar transformation on financial data </a>\n",
    "\n",
    "* <a target='_blank', href='http://nbviewer.ipython.org/github/Prooffreader/Misc_ipynb/blob/master/top_10_python_idioms.ipynb'>Top 10 python idioms</a> by David \"Prooffreader -- with two f's, that's the joke!\" Taylor\n",
    "\n",
    "* <a target='_blank', href='http://amitsaha.github.io/'>Amit Saha's Github repo</a>\n"
   ]
  },
  {
   "cell_type": "code",
   "execution_count": null,
   "metadata": {
    "collapsed": false
   },
   "outputs": [],
   "source": []
  }
 ],
 "metadata": {
  "kernelspec": {
   "display_name": "Python 2",
   "language": "python",
   "name": "python2"
  },
  "language_info": {
   "codemirror_mode": {
    "name": "ipython",
    "version": 2
   },
   "file_extension": ".py",
   "mimetype": "text/x-python",
   "name": "python",
   "nbconvert_exporter": "python",
   "pygments_lexer": "ipython2",
   "version": "2.7.9"
  }
 },
 "nbformat": 4,
 "nbformat_minor": 0
}
