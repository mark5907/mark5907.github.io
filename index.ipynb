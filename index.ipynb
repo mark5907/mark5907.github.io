{
 "metadata": {
  "name": "",
  "signature": "sha256:03ebb8ad6096b1f5e0df061cc2827c130d8a86713442a3f6f53cfeff6e086620"
 },
 "nbformat": 3,
 "nbformat_minor": 0,
 "worksheets": [
  {
   "cells": [
    {
     "cell_type": "markdown",
     "metadata": {},
     "source": [
      "# Read Me\n",
      "Hello, I am Lei Yao. I am a mathematician/quant researcher/poker player/coding lover. "
     ]
    },
    {
     "cell_type": "code",
     "collapsed": false,
     "input": [],
     "language": "python",
     "metadata": {},
     "outputs": []
    }
   ],
   "metadata": {}
  }
 ]
}