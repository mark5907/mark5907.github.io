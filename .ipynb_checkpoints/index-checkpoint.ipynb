{
 "metadata": {
  "name": "",
  "signature": "sha256:7786470866f2e24879737209356d9c8387cfaeae9a3a5e70a0db3e9078985906"
 },
 "nbformat": 3,
 "nbformat_minor": 0,
 "worksheets": []
}