{
 "metadata": {
  "name": "",
  "signature": "sha256:8d5ef4fda06343c51cfc682c337684e864117996286afe9638de51fd6c2926c7"
 },
 "nbformat": 3,
 "nbformat_minor": 0,
 "worksheets": [
  {
   "cells": [
    {
     "cell_type": "markdown",
     "metadata": {},
     "source": [
      "### Go for them\n",
      "\n",
      "1. (a) Mathmetical Puzzles -A Connoisseur's Collection, Peter Winkler\n",
      "1. (b) Mathematical Mind-Beners, Peter Winkler\n",
      "  + Nice collectionsof interesting math puzzles. Good for quantitative interviews and brain workout. Some of them could get difficult (former IMO)    \n",
      "2. Sway -The Irresistible Pull Of Irrational Behavior, Ori Brafman & Rom Brafman\n",
      "  + Discussion of human irrational behaviour, which are the driver for many disastars (and occational merits)\n",
      "3. Flash Boy, Michael Lewis\n",
      "    + Some contents on high frequency trading are not quite true. Good read to get a picture of the industry though.\n",
      "4. The (Mis)Behavior of Markets, Benoit Mandelbrot\n",
      "    + By the renouned mathematician in our time. Provides great insights on the concept factal theory and its application in financial market.\n",
      "    + Quote from the book: \"Of course, $20 million is not enough; even computers and doctoral students are cheap.\" (Nice catch, Prof!)"
     ]
    },
    {
     "cell_type": "code",
     "collapsed": false,
     "input": [],
     "language": "python",
     "metadata": {},
     "outputs": []
    }
   ],
   "metadata": {}
  }
 ]
}