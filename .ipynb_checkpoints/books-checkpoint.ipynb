{
 "metadata": {
  "name": "",
  "signature": "sha256:1be9efb07a412cc8d148a52416396e47f7baba88f5eb47b6adb15f30b369fea4"
 },
 "nbformat": 3,
 "nbformat_minor": 0,
 "worksheets": [
  {
   "cells": [
    {
     "cell_type": "markdown",
     "metadata": {},
     "source": [
      "### Go for them\n",
      "\n",
      "1. (a) Mathmetical Puzzles -A Connoisseur's Collection, Peter Winkler\n",
      "1. (b) Mathematical Mind-Beners, Peter Winkler\n",
      "  + Nice collectionsof interesting math puzzles. Good for quantitative interviews and brain workout. Some of them could get difficult (former IMO)    \n",
      "2. Sway -The Irresistible Pull Of Irrational Behavior, Ori Brafman & Rom Brafman\n",
      "  + Discussion of human irrational behaviour, which are the driver for many disastars (and occational merits)\n",
      "3. Flash Boy, Michael Lewis\n",
      "    + Some contents on high frequency are not quite true. Good read to get a picture of the industry though.\n",
      "4. The (Mis)Behavior of Markets, Benoit Mandelbrot\n",
      "    + By the renouned mathematician in our time. Provides great insights on the concept factal theory and its application in financial market.\n",
      "    + Quote from the book: \"Of course, $20 million is not enough; even computers and doctoral students are cheap.\" (Nice catch, Prof!)"
     ]
    },
    {
     "cell_type": "code",
     "collapsed": false,
     "input": [],
     "language": "python",
     "metadata": {},
     "outputs": []
    }
   ],
   "metadata": {}
  }
 ]
}