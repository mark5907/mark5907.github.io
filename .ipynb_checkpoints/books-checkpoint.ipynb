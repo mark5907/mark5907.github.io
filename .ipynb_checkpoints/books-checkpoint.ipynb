{
 "cells": [
  {
   "cell_type": "markdown",
   "metadata": {},
   "source": [
    "1. (a) Mathmetical Puzzles -A Connoisseur's Collection, Peter Winkler\n",
    "1. (b) Mathematical Mind-Beners, Peter Winkler\n",
    "  + Nice collectionsof interesting math puzzles. Good for quantitative interviews and brain workout. Some of them could get difficult (former IMO)    \n",
    "2. Sway -The Irresistible Pull Of Irrational Behavior, Ori Brafman & Rom Brafman\n",
    "  + Discussion of human irrational behaviour, which are the driver for many disastars (and occational merits)\n",
    "3. Flash Boy, Michael Lewis\n",
    "    + Some contents on high frequency trading are not quite true. Good read to get a picture of the industry though.\n",
    "4. The (Mis)Behavior of Markets, Benoit Mandelbrot\n",
    "    + By the renouned mathematician in our time. Provides great insights on the concept factal theory and its application in financial market.\n",
    "    + Quote from the book: \"Of course, $20 million is not enough; even computers and doctoral students are cheap.\" (Nice catch, Prof!)"
   ]
  },
  {
   "cell_type": "code",
   "execution_count": null,
   "metadata": {
    "collapsed": false
   },
   "outputs": [],
   "source": []
  }
 ],
 "metadata": {
  "kernelspec": {
   "display_name": "Python 2",
   "language": "python",
   "name": "python2"
  },
  "language_info": {
   "codemirror_mode": {
    "name": "ipython",
    "version": 2
   },
   "file_extension": ".py",
   "mimetype": "text/x-python",
   "name": "python",
   "nbconvert_exporter": "python",
   "pygments_lexer": "ipython2",
   "version": "2.7.9"
  }
 },
 "nbformat": 4,
 "nbformat_minor": 0
}
