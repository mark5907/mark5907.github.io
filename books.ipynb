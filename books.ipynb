{
 "metadata": {
  "name": "",
  "signature": "sha256:f61b22fd6d42ae831f6da745fe7ab82f2aae0317fb9a2e53a7cadfc863a8b4a2"
 },
 "nbformat": 3,
 "nbformat_minor": 0,
 "worksheets": [
  {
   "cells": [
    {
     "cell_type": "markdown",
     "metadata": {},
     "source": [
      "### Go for it\n",
      "* Mathmetical Puzzles -A Connoisseur's Collection, Peter Winkler\n",
      "* Mathematical Mind-Beners, Peter Winkler\n",
      "  + Nice collectionsof interesting math puzzles. Good for quantitative interviews and brain workout. Some of them could get difficult (former IMO)\n",
      "    \n",
      "    \n",
      "* Sway -The Irresistible Pull Of Irrational Behavior, Ori Brafman & Rom Brafman\n",
      "  + Discussion of human irrational behaviour, which are the driver for many disastars (and occational merits)\n",
      "  \n",
      "### Before boarding to a long distant flight and you only see these in the bookstore...\n",
      "\n",
      "* Flash Boy, Michael Lewis\n",
      "    + Some contents on high frequency are not quite true. Good read to get a picture of the industry though."
     ]
    }
   ],
   "metadata": {}
  }
 ]
}