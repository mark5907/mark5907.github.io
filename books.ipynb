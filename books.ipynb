{
 "metadata": {
  "name": "",
  "signature": "sha256:56f68c2c9343b222d921d12f1c7debf9933c33105897efd31615b9e9d448e672"
 },
 "nbformat": 3,
 "nbformat_minor": 0,
 "worksheets": [
  {
   "cells": [
    {
     "cell_type": "markdown",
     "metadata": {},
     "source": [
      "* Mathmetical Puzzles -A Connoisseur's Collection, Peter Winkler\n",
      "* Mathematical Mind-Beners, Peter Winkler\n",
      "  + Nice collectionsof interesting math puzzles. Good for interviews and some brain workouts. Some of them could get difficult (former IMO)\n",
      "    \n",
      "    \n",
      "* Sway -The Irresistible Pull Of Irrational Behavior, Ori Brafman & Rom Brafman\n",
      "  + Discussion of human irrational behaviour, which are the driver for many disastars (and occational merits)"
     ]
    },
    {
     "cell_type": "code",
     "collapsed": false,
     "input": [],
     "language": "python",
     "metadata": {},
     "outputs": []
    }
   ],
   "metadata": {}
  }
 ]
}